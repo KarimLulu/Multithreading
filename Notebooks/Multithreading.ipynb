{
 "cells": [
  {
   "cell_type": "code",
   "execution_count": 1,
   "metadata": {
    "collapsed": true
   },
   "outputs": [],
   "source": [
    "from time import sleep, time, ctime\n",
    "from threading import Thread, Lock, current_thread, BoundedSemaphore\n",
    "import atexit\n",
    "from random import randrange"
   ]
  },
  {
   "cell_type": "code",
   "execution_count": 2,
   "metadata": {
    "collapsed": false
   },
   "outputs": [],
   "source": [
    "def count(n):\n",
    "    while n > 0:\n",
    "        n -= 1\n",
    "#         if n % 10000000 == 0:\n",
    "#             print(n)"
   ]
  },
  {
   "cell_type": "code",
   "execution_count": 3,
   "metadata": {
    "collapsed": false
   },
   "outputs": [
    {
     "name": "stdout",
     "output_type": "stream",
     "text": [
      "CPU times: user 4.19 s, sys: 0 ns, total: 4.19 s\n",
      "Wall time: 4.19 s\n"
     ]
    }
   ],
   "source": [
    "%%time\n",
    "n = 10000000*5\n",
    "count(n)"
   ]
  },
  {
   "cell_type": "markdown",
   "metadata": {},
   "source": [
    "Try threads"
   ]
  },
  {
   "cell_type": "code",
   "execution_count": 4,
   "metadata": {
    "collapsed": false
   },
   "outputs": [
    {
     "name": "stdout",
     "output_type": "stream",
     "text": [
      "CPU times: user 4.31 s, sys: 32 ms, total: 4.34 s\n",
      "Wall time: 4.34 s\n"
     ]
    }
   ],
   "source": [
    "%%time\n",
    "t0 = time()\n",
    "t1 = Thread(target = count, args = (n/2,))\n",
    "t1.start()\n",
    "t2 = Thread(target = count, args = (n/2,))\n",
    "t2.start()\n",
    "t1.join()\n",
    "t2.join()"
   ]
  },
  {
   "cell_type": "code",
   "execution_count": 5,
   "metadata": {
    "collapsed": true
   },
   "outputs": [],
   "source": [
    "class Func(object):\n",
    "    \n",
    "    def __init__(self, func, args, **kwargs):\n",
    "        self.func = func\n",
    "        self.args = args\n",
    "        self.kwargs = kwargs\n",
    "        \n",
    "    def __call__(self):\n",
    "        return self.func(*self.args, **self.kwargs)"
   ]
  },
  {
   "cell_type": "code",
   "execution_count": 6,
   "metadata": {
    "collapsed": false
   },
   "outputs": [
    {
     "name": "stdout",
     "output_type": "stream",
     "text": [
      "CPU times: user 4.33 s, sys: 12 ms, total: 4.34 s\n",
      "Wall time: 4.35 s\n"
     ]
    }
   ],
   "source": [
    "%%time\n",
    "f = Func(count, (n/2,))\n",
    "t1 = Thread(target = f)\n",
    "t2 = Thread(target = f)\n",
    "t1.start()\n",
    "t2.start()\n",
    "t1.join()\n",
    "t2.join()"
   ]
  },
  {
   "cell_type": "code",
   "execution_count": 7,
   "metadata": {
    "collapsed": true
   },
   "outputs": [],
   "source": [
    "class MyThread(Thread):\n",
    "    \n",
    "    def __init__(self, name, func, args):\n",
    "        super().__init__()\n",
    "        self.func = func\n",
    "        self.args = args\n",
    "        self.name = name\n",
    "        \n",
    "    def run(self):\n",
    "        print('Thread `{name}` starting at: {t}'.format(name=self.name,t=ctime()))\n",
    "        self.rez = self.func(*self.args)\n",
    "        print('Thread `{name}` finished at: {t}'.format(name=self.name,t=ctime()))"
   ]
  },
  {
   "cell_type": "code",
   "execution_count": 8,
   "metadata": {
    "collapsed": false
   },
   "outputs": [
    {
     "name": "stdout",
     "output_type": "stream",
     "text": [
      "Thread `t1` starting at: Sat Sep 23 13:13:31 2017Thread `t2` starting at: Sat Sep 23 13:13:31 2017MainThread\n",
      "\n",
      "\n",
      "Thread `t2` finished at: Sat Sep 23 13:13:35 2017\n",
      "Thread `t1` finished at: Sat Sep 23 13:13:35 2017\n",
      "CPU times: user 4.31 s, sys: 16 ms, total: 4.33 s\n",
      "Wall time: 4.34 s\n"
     ]
    }
   ],
   "source": [
    "%%time\n",
    "t1 = MyThread('t1', count, (n/2,))\n",
    "t2 = MyThread('t2', count, (n/2,))\n",
    "t1.start()\n",
    "t2.start()\n",
    "print(current_thread().name)\n",
    "t1.join()\n",
    "t2.join()"
   ]
  },
  {
   "cell_type": "markdown",
   "metadata": {},
   "source": [
    "Using Sync Primitives"
   ]
  },
  {
   "cell_type": "code",
   "execution_count": 12,
   "metadata": {
    "collapsed": false
   },
   "outputs": [
    {
     "name": "stdout",
     "output_type": "stream",
     "text": [
      "[4, 3, 2, 3]\n",
      "[Sat Sep 23 15:18:34 2017] Started Thread-17\n",
      "[Sat Sep 23 15:18:34 2017] Started Thread-18\n",
      "[Sat Sep 23 15:18:34 2017] Started Thread-19\n",
      "[Sat Sep 23 15:18:34 2017] Started Thread-20\n",
      "[Sat Sep 23 15:18:36 2017] Completed Thread-19 (2 secs)\n",
      "   (remaining: Thread-17, Thread-20, Thread-18)\n",
      "[Sat Sep 23 15:18:37 2017] Completed Thread-18 (3 secs)\n",
      "   (remaining: Thread-17, Thread-20)\n",
      "[Sat Sep 23 15:18:37 2017] Completed Thread-20 (3 secs)\n",
      "   (remaining: Thread-17)\n",
      "[Sat Sep 23 15:18:38 2017] Completed Thread-17 (4 secs)\n",
      "   (remaining: NONE)\n"
     ]
    }
   ],
   "source": [
    "class CleanOutputSet(set):\n",
    "    def __str__(self):\n",
    "        return ', '.join(x for x in self)\n",
    "\n",
    "lock = Lock()\n",
    "loops = [randrange(2,5) for x in range(randrange(3,7))]\n",
    "remaining = CleanOutputSet()\n",
    "\n",
    "def loop(nsec):\n",
    "    myname = current_thread().name\n",
    "    with lock:\n",
    "        remaining.add(myname)\n",
    "        print('[{0}] Started {1}'.format(ctime(), myname))\n",
    "    sleep(nsec)\n",
    "    with lock:\n",
    "        remaining.remove(myname)\n",
    "        print('[{0}] Completed {1} ({2} secs)'.format(ctime(), myname, nsec))\n",
    "        print('   (remaining: {0})'.format(remaining or 'NONE'))\n",
    "\n",
    "def main():\n",
    "    for pause in loops:\n",
    "        Thread(target=loop, args=(pause,)).start()\n",
    "    \n",
    "@atexit.register\n",
    "def _atexit():\n",
    "    print('all DONE at:', ctime())\n",
    "\n",
    "print(list(loops))\n",
    "main()"
   ]
  },
  {
   "cell_type": "markdown",
   "metadata": {},
   "source": [
    "Using Semaphore"
   ]
  },
  {
   "cell_type": "code",
   "execution_count": 190,
   "metadata": {
    "collapsed": false
   },
   "outputs": [
    {
     "name": "stdout",
     "output_type": "stream",
     "text": [
      "Buy: 16, Sell: 3\n",
      "Buying candy...\n",
      "OK\n",
      "[9]\n",
      "Buying candy...OK\n",
      "[8]\n",
      "Buying candy...OK\n",
      "[7]\n",
      "Buying candy...OK\n",
      "[6]\n",
      "Refilling candy...OK\n",
      "[7]\n",
      "Buying candy...OK\n",
      "[6]\n",
      "Refilling candy...OK\n",
      "[7]\n",
      "Buying candy...OK\n",
      "[6]\n",
      "Buying candy...OK\n",
      "[5]\n",
      "Refilling candy...OK\n",
      "[6]\n",
      "Buying candy...OK\n",
      "[5]\n",
      "Buying candy...OK\n",
      "[4]\n",
      "Buying candy...OK\n",
      "[3]\n",
      "Buying candy...OK\n",
      "[2]\n",
      "Buying candy...OK\n",
      "[1]\n",
      "Buying candy...OK\n",
      "[0]\n",
      "Buying candy...Sorry, it is empty\n",
      "[0]\n",
      "Buying candy...Sorry, it is empty\n",
      "[0]\n",
      "Buying candy...Sorry, it is empty\n",
      "[0]\n"
     ]
    }
   ],
   "source": [
    "lock = Lock()\n",
    "MAX = 10\n",
    "service = BoundedSemaphore(MAX)\n",
    "\n",
    "def add_candy():\n",
    "    with lock:\n",
    "        print('Refilling candy...', end = '')\n",
    "        try:\n",
    "            service.release()\n",
    "#         except Exception as error:\n",
    "#             print('Error occured: {0}'.format(str(type(error).__name__ + ' : ' + ' '.join(error.args))))\n",
    "        except ValueError:\n",
    "            print('Sorry, it is full')\n",
    "        else:\n",
    "            print('OK')\n",
    "        print('[{0}]'.format(service._value))\n",
    "\n",
    "def buy_candy():\n",
    "    with lock:\n",
    "        print('Buying candy...', end='')\n",
    "        if service.acquire(False):\n",
    "            print('OK')\n",
    "        else:\n",
    "            print('Sorry, it is empty')\n",
    "        print('[{0}]'.format(service._value))\n",
    "            \n",
    "def producer(loops):\n",
    "    for i in range(loops):\n",
    "        add_candy()\n",
    "        sleep(randrange(2))\n",
    "\n",
    "def consumer(loops):\n",
    "    for i in range(loops):\n",
    "        buy_candy()\n",
    "        sleep(randrange(2))   \n",
    "        \n",
    "def main():\n",
    "    nloops = randrange(3,5)\n",
    "    nloops_buy = randrange(nloops, nloops + MAX + 4)\n",
    "    print('Buy: {0}, Sell: {1}\\n'.format(nloops_buy, nloops))\n",
    "    c = Thread(target=consumer, args = (nloops_buy,))\n",
    "    p = Thread(target=producer, args = (nloops,))\n",
    "    c.start()\n",
    "    p.start()\n",
    "    \n",
    "main()"
   ]
  },
  {
   "cell_type": "markdown",
   "metadata": {},
   "source": [
    "Queue"
   ]
  },
  {
   "cell_type": "code",
   "execution_count": 18,
   "metadata": {
    "collapsed": true
   },
   "outputs": [],
   "source": [
    "from queue import Queue"
   ]
  },
  {
   "cell_type": "code",
   "execution_count": 20,
   "metadata": {
    "collapsed": false
   },
   "outputs": [
    {
     "name": "stdout",
     "output_type": "stream",
     "text": [
      "[Sat Sep 23 15:27:52 2017] Thread ConsumerThread started to get, size = 0\n",
      "[Sat Sep 23 15:27:52 2017] Thread ProducerThread started to put, size = 0[Sat Sep 23 15:27:52 2017] Thread ConsumerThread consumed, size = 0\n",
      "\n",
      "[Sat Sep 23 15:27:52 2017] Thread ProducerThread put, size = 1[Sat Sep 23 15:27:52 2017] Thread ConsumerThread started to get, size = 1\n",
      "[Sat Sep 23 15:27:52 2017] Thread ProducerThread started to put, size = 0\n",
      "\n",
      "[Sat Sep 23 15:27:52 2017] Thread ProducerThread put, size = 1[Sat Sep 23 15:27:52 2017] Thread ConsumerThread consumed, size = 1\n",
      "[Sat Sep 23 15:27:52 2017] Thread ProducerThread started to put, size = 1\n",
      "[Sat Sep 23 15:27:52 2017] Thread ProducerThread put, size = 2\n",
      "\n",
      "[Sat Sep 23 15:27:52 2017] Thread ConsumerThread started to get, size = 1\n",
      "[Sat Sep 23 15:27:54 2017] Thread ConsumerThread consumed, size = 0\n",
      "[Sat Sep 23 15:27:54 2017] Thread ConsumerThread started to get, size = 0\n"
     ]
    }
   ],
   "source": [
    "def consume(q):\n",
    "    while True:\n",
    "        name = current_thread().name\n",
    "        print('[{0}] Thread {1} started to get, size = {2}'.format(ctime(), name, q.qsize()))\n",
    "        item = q.get()\n",
    "        sleep(randrange(3))\n",
    "        print('[{0}] Thread {1} consumed, size = {2}'.format(ctime(), name, q.qsize()))\n",
    "        q.task_done()\n",
    "  \n",
    "\n",
    "def produce(q, loops):\n",
    "    for k in range(loops):\n",
    "        name = current_thread().name\n",
    "        print('[{0}] Thread {1} started to put, size = {2}'.format(ctime(), name, q.qsize()))\n",
    "        item = k\n",
    "        q.put(k)\n",
    "        sleep(randrange(1))\n",
    "        print('[{0}] Thread {1} put, size = {2}'.format(ctime(), name, q.qsize()))\n",
    "\n",
    "        \n",
    "def main():\n",
    "    loops = randrange(3,5)\n",
    "    q = Queue(maxsize=20)\n",
    "    c = Thread(name='ConsumerThread', target=consume, args=(q,))#, daemon = True)\n",
    "    p = Thread(name='ProducerThread', target=produce, args=(q, loops))#, daemon = True)\n",
    "    c.start()\n",
    "    p.start()\n",
    "    \n",
    "    q.join()\n",
    "    \n",
    "main()"
   ]
  },
  {
   "cell_type": "markdown",
   "metadata": {},
   "source": [
    "##### Thread and Process Pools"
   ]
  },
  {
   "cell_type": "code",
   "execution_count": 10,
   "metadata": {
    "collapsed": false
   },
   "outputs": [],
   "source": [
    "from concurrent.futures import ProcessPoolExecutor, ThreadPoolExecutor, Executor\n",
    "from multiprocessing import cpu_count\n",
    "from functools import partial\n",
    "from itertools import chain\n",
    "import os\n",
    "import time\n",
    "import xml.etree.ElementTree as ET"
   ]
  },
  {
   "cell_type": "code",
   "execution_count": 2,
   "metadata": {
    "collapsed": false
   },
   "outputs": [
    {
     "name": "stdout",
     "output_type": "stream",
     "text": [
      "Total cores: 4\n"
     ]
    }
   ],
   "source": [
    "print(f'Total cores: {cpu_count()}')"
   ]
  },
  {
   "cell_type": "code",
   "execution_count": 2,
   "metadata": {
    "collapsed": false
   },
   "outputs": [
    {
     "name": "stdout",
     "output_type": "stream",
     "text": [
      "Total files: 16149\n"
     ]
    }
   ],
   "source": [
    "data = '/home/karimlulu/repos/Multithreading/data'\n",
    "filenames = []\n",
    "for dirpath, dirnames, files in os.walk(data):\n",
    "    for file in files:\n",
    "        filenames.append(os.path.join(dirpath, file))\n",
    "\n",
    "print(f'Total files: {len(filenames)}')"
   ]
  },
  {
   "cell_type": "code",
   "execution_count": 3,
   "metadata": {
    "collapsed": false
   },
   "outputs": [],
   "source": [
    "def job(filename):\n",
    "    try:\n",
    "        with open(filename, 'r') as f:\n",
    "            tree = ET.parse(f)       \n",
    "    except ET.ParseError as error:\n",
    "        return str(error)\n",
    "    else:\n",
    "        tags = [elem.tag for elem in tree.iter()]\n",
    "        return list(set(tags))"
   ]
  },
  {
   "cell_type": "code",
   "execution_count": 4,
   "metadata": {
    "collapsed": true
   },
   "outputs": [],
   "source": [
    "files = []\n",
    "n = 5000\n",
    "sample = filenames[:n]"
   ]
  },
  {
   "cell_type": "code",
   "execution_count": 5,
   "metadata": {
    "collapsed": false
   },
   "outputs": [
    {
     "name": "stdout",
     "output_type": "stream",
     "text": [
      "Single thread: 33.35 sec\n"
     ]
    }
   ],
   "source": [
    "t0 = time.time()\n",
    "for filename in sample:\n",
    "    files.append(job(filename))\n",
    "\n",
    "print(f'Single thread: {time.time()-t0:.2f} sec')"
   ]
  },
  {
   "cell_type": "code",
   "execution_count": 144,
   "metadata": {
    "collapsed": false
   },
   "outputs": [],
   "source": [
    "from concurrent.futures import ThreadPoolExecutor, ProcessPoolExecutor\n",
    "from multiprocessing import cpu_count\n",
    "from functools import partial\n",
    "\n",
    "import itertools\n",
    "\n",
    "\n",
    "def _thread_worker(batch, job):\n",
    "    result = [job(obj) for obj in batch]\n",
    "    return result\n",
    "\n",
    "\n",
    "def _process_worker(batch, job, n_threads):\n",
    "    chunks = [batch[i::n_threads] for i in range(n_threads)]\n",
    "    worker = partial(_thread_worker, job = job)\n",
    "\n",
    "    with ThreadPoolExecutor(max_workers = n_threads) as executor:\n",
    "        futures = [executor.submit(worker, c) for c in chunks]\n",
    "\n",
    "    result = [f.result() for f in futures]\n",
    "    return list(itertools.chain(*result))\n",
    "\n",
    "\n",
    "def _master_worker(batch, job, n_processes, n_threads):\n",
    "    chunks = [batch[i::n_processes] for i in range(n_processes)]\n",
    "    worker = partial(process_worker, job = job, n_threads = n_threads)\n",
    "\n",
    "    with ProcessPoolExecutor(max_workers = n_processes) as executor:\n",
    "        futures = [executor.submit(worker, c) for c in chunks]\n",
    "\n",
    "    result = [f.result() for f in futures]\n",
    "    return list(itertools.chain(*result))\n",
    "\n",
    "\n",
    "def process_worker(batch, job, n_threads):\n",
    "    if n_threads == 1:\n",
    "        result = _thread_worker(batch, job)\n",
    "    else:\n",
    "        result = _process_worker(batch, job, n_threads)\n",
    "    return result\n",
    "\n",
    "\n",
    "def mp_map(data, job, n_processes = -1, n_threads = -1):\n",
    "    n_processes = cpu_count() if n_processes < 1 else n_processes\n",
    "    n_processes = min(n_processes, len(data))\n",
    "    n_threads = 1 if n_threads < 1 or n_processes == len(data) else n_threads\n",
    "    if n_processes == 1:\n",
    "        result = process_worker(data, job, n_threads)\n",
    "    else:\n",
    "        result = _master_worker(data, job, n_processes, n_threads)\n",
    "    return result"
   ]
  },
  {
   "cell_type": "code",
   "execution_count": 185,
   "metadata": {
    "collapsed": false
   },
   "outputs": [
    {
     "name": "stdout",
     "output_type": "stream",
     "text": [
      "Spent 15.84 sec\n"
     ]
    }
   ],
   "source": [
    "t0 = time.time()\n",
    "r = mp_map(sample, job, n_processes=6, n_threads=1)\n",
    "print(f'Spent {time.time()-t0:.2f} sec')"
   ]
  }
 ],
 "metadata": {
  "kernelspec": {
   "display_name": "Python 3.6",
   "language": "python",
   "name": "python3"
  },
  "language_info": {
   "codemirror_mode": {
    "name": "ipython",
    "version": 3
   },
   "file_extension": ".py",
   "mimetype": "text/x-python",
   "name": "python",
   "nbconvert_exporter": "python",
   "pygments_lexer": "ipython3",
   "version": "3.6.0"
  }
 },
 "nbformat": 4,
 "nbformat_minor": 2
}
