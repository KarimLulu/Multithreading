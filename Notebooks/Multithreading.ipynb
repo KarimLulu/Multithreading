{
 "cells": [
  {
   "cell_type": "code",
   "execution_count": 21,
   "metadata": {
    "collapsed": true
   },
   "outputs": [],
   "source": [
    "from time import sleep, time, ctime\n",
    "from threading import Thread, Lock, current_thread"
   ]
  },
  {
   "cell_type": "code",
   "execution_count": 2,
   "metadata": {
    "collapsed": false
   },
   "outputs": [],
   "source": [
    "def count(n):\n",
    "    while n > 0:\n",
    "        n -= 1\n",
    "#         if n % 10000000 == 0:\n",
    "#             print(n)"
   ]
  },
  {
   "cell_type": "code",
   "execution_count": 20,
   "metadata": {
    "collapsed": false
   },
   "outputs": [
    {
     "name": "stdout",
     "output_type": "stream",
     "text": [
      "CPU times: user 3.69 s, sys: 4 ms, total: 3.7 s\n",
      "Wall time: 3.7 s\n"
     ]
    }
   ],
   "source": [
    "%%time\n",
    "n = 10000000*5\n",
    "count(n)"
   ]
  },
  {
   "cell_type": "markdown",
   "metadata": {},
   "source": [
    "Try threads"
   ]
  },
  {
   "cell_type": "code",
   "execution_count": 31,
   "metadata": {
    "collapsed": false
   },
   "outputs": [
    {
     "name": "stdout",
     "output_type": "stream",
     "text": [
      "CPU times: user 4.49 s, sys: 8 ms, total: 4.5 s\n",
      "Wall time: 4.51 s\n"
     ]
    }
   ],
   "source": [
    "%%time\n",
    "t0 = time()\n",
    "t1 = Thread(target = count, args = (n/2,))\n",
    "t1.start()\n",
    "t2 = Thread(target = count, args = (n/2,))\n",
    "t2.start()\n",
    "t1.join()\n",
    "t2.join()"
   ]
  },
  {
   "cell_type": "code",
   "execution_count": 54,
   "metadata": {
    "collapsed": true
   },
   "outputs": [],
   "source": [
    "class Func(object):\n",
    "    \n",
    "    def __init__(self, func, args, **kwargs):\n",
    "        self.func = func\n",
    "        self.args = args\n",
    "        self.kwargs = kwargs\n",
    "        \n",
    "    def __call__(self):\n",
    "        return self.func(*self.args, **self.kwargs)"
   ]
  },
  {
   "cell_type": "code",
   "execution_count": 55,
   "metadata": {
    "collapsed": false
   },
   "outputs": [
    {
     "name": "stdout",
     "output_type": "stream",
     "text": [
      "CPU times: user 4.34 s, sys: 16 ms, total: 4.35 s\n",
      "Wall time: 4.35 s\n"
     ]
    }
   ],
   "source": [
    "%%time\n",
    "f = Func(count, (n/2,))\n",
    "t1 = Thread(target = f)\n",
    "t2 = Thread(target = f)\n",
    "t1.start()\n",
    "t2.start()\n",
    "t1.join()\n",
    "t2.join()"
   ]
  },
  {
   "cell_type": "code",
   "execution_count": 29,
   "metadata": {
    "collapsed": true
   },
   "outputs": [],
   "source": [
    "class MyThread(Thread):\n",
    "    \n",
    "    def __init__(self, name, func, args):\n",
    "        super().__init__()\n",
    "        self.func = func\n",
    "        self.args = args\n",
    "        self.name = name\n",
    "        \n",
    "    def run(self):\n",
    "        print('Thread `{name}` starting at: {t}'.format(name=self.name,t=ctime()))\n",
    "        self.rez = self.func(*self.args)\n",
    "        print('Thread `{name}` finished at: {t}'.format(name=self.name,t=ctime()))"
   ]
  },
  {
   "cell_type": "code",
   "execution_count": 30,
   "metadata": {
    "collapsed": false
   },
   "outputs": [
    {
     "name": "stdout",
     "output_type": "stream",
     "text": [
      "Thread `t1` starting at: Tue Aug  8 01:32:02 2017\n",
      "Thread `t2` starting at: Tue Aug  8 01:32:02 2017MainThread\n",
      "\n",
      "Thread `t1` finished at: Tue Aug  8 01:32:06 2017\n",
      "Thread `t2` finished at: Tue Aug  8 01:32:06 2017\n",
      "CPU times: user 4.3 s, sys: 12 ms, total: 4.31 s\n",
      "Wall time: 4.32 s\n"
     ]
    }
   ],
   "source": [
    "%%time\n",
    "t1 = MyThread('t1', count, (n/2,))\n",
    "t2 = MyThread('t2', count, (n/2,))\n",
    "t1.start()\n",
    "t2.start()\n",
    "print(current_thread().name)\n",
    "t1.join()\n",
    "t2.join()"
   ]
  },
  {
   "cell_type": "code",
   "execution_count": null,
   "metadata": {
    "collapsed": true
   },
   "outputs": [],
   "source": []
  }
 ],
 "metadata": {
  "kernelspec": {
   "display_name": "Python 3.6",
   "language": "python",
   "name": "python3"
  },
  "language_info": {
   "codemirror_mode": {
    "name": "ipython",
    "version": 3
   },
   "file_extension": ".py",
   "mimetype": "text/x-python",
   "name": "python",
   "nbconvert_exporter": "python",
   "pygments_lexer": "ipython3",
   "version": "3.6.0"
  }
 },
 "nbformat": 4,
 "nbformat_minor": 2
}
