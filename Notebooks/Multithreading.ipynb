{
 "cells": [
  {
   "cell_type": "code",
   "execution_count": 51,
   "metadata": {
    "collapsed": true
   },
   "outputs": [],
   "source": [
    "from time import sleep, time, ctime\n",
    "from threading import Thread, Lock, current_thread, BoundedSemaphore\n",
    "import atexit\n",
    "from random import randrange"
   ]
  },
  {
   "cell_type": "code",
   "execution_count": 2,
   "metadata": {
    "collapsed": false
   },
   "outputs": [],
   "source": [
    "def count(n):\n",
    "    while n > 0:\n",
    "        n -= 1\n",
    "#         if n % 10000000 == 0:\n",
    "#             print(n)"
   ]
  },
  {
   "cell_type": "code",
   "execution_count": 3,
   "metadata": {
    "collapsed": false
   },
   "outputs": [
    {
     "name": "stdout",
     "output_type": "stream",
     "text": [
      "CPU times: user 2.56 s, sys: 4 ms, total: 2.56 s\n",
      "Wall time: 2.56 s\n"
     ]
    }
   ],
   "source": [
    "%%time\n",
    "n = 10000000*5\n",
    "count(n)"
   ]
  },
  {
   "cell_type": "markdown",
   "metadata": {},
   "source": [
    "Try threads"
   ]
  },
  {
   "cell_type": "code",
   "execution_count": 4,
   "metadata": {
    "collapsed": false
   },
   "outputs": [
    {
     "name": "stdout",
     "output_type": "stream",
     "text": [
      "CPU times: user 2.67 s, sys: 0 ns, total: 2.67 s\n",
      "Wall time: 2.66 s\n"
     ]
    }
   ],
   "source": [
    "%%time\n",
    "t0 = time()\n",
    "t1 = Thread(target = count, args = (n/2,))\n",
    "t1.start()\n",
    "t2 = Thread(target = count, args = (n/2,))\n",
    "t2.start()\n",
    "t1.join()\n",
    "t2.join()"
   ]
  },
  {
   "cell_type": "code",
   "execution_count": 5,
   "metadata": {
    "collapsed": true
   },
   "outputs": [],
   "source": [
    "class Func(object):\n",
    "    \n",
    "    def __init__(self, func, args, **kwargs):\n",
    "        self.func = func\n",
    "        self.args = args\n",
    "        self.kwargs = kwargs\n",
    "        \n",
    "    def __call__(self):\n",
    "        return self.func(*self.args, **self.kwargs)"
   ]
  },
  {
   "cell_type": "code",
   "execution_count": 6,
   "metadata": {
    "collapsed": false
   },
   "outputs": [
    {
     "name": "stdout",
     "output_type": "stream",
     "text": [
      "CPU times: user 2.68 s, sys: 8 ms, total: 2.69 s\n",
      "Wall time: 2.69 s\n"
     ]
    }
   ],
   "source": [
    "%%time\n",
    "f = Func(count, (n/2,))\n",
    "t1 = Thread(target = f)\n",
    "t2 = Thread(target = f)\n",
    "t1.start()\n",
    "t2.start()\n",
    "t1.join()\n",
    "t2.join()"
   ]
  },
  {
   "cell_type": "code",
   "execution_count": 7,
   "metadata": {
    "collapsed": true
   },
   "outputs": [],
   "source": [
    "class MyThread(Thread):\n",
    "    \n",
    "    def __init__(self, name, func, args):\n",
    "        super().__init__()\n",
    "        self.func = func\n",
    "        self.args = args\n",
    "        self.name = name\n",
    "        \n",
    "    def run(self):\n",
    "        print('Thread `{name}` starting at: {t}'.format(name=self.name,t=ctime()))\n",
    "        self.rez = self.func(*self.args)\n",
    "        print('Thread `{name}` finished at: {t}'.format(name=self.name,t=ctime()))"
   ]
  },
  {
   "cell_type": "code",
   "execution_count": 8,
   "metadata": {
    "collapsed": false
   },
   "outputs": [
    {
     "name": "stdout",
     "output_type": "stream",
     "text": [
      "Thread `t1` starting at: Tue Aug  8 12:26:05 2017\n",
      "MainThread\n",
      "Thread `t2` starting at: Tue Aug  8 12:26:05 2017\n",
      "Thread `t1` finished at: Tue Aug  8 12:26:07 2017Thread `t2` finished at: Tue Aug  8 12:26:07 2017\n",
      "\n",
      "CPU times: user 2.77 s, sys: 12 ms, total: 2.78 s\n",
      "Wall time: 2.77 s\n"
     ]
    }
   ],
   "source": [
    "%%time\n",
    "t1 = MyThread('t1', count, (n/2,))\n",
    "t2 = MyThread('t2', count, (n/2,))\n",
    "t1.start()\n",
    "t2.start()\n",
    "print(current_thread().name)\n",
    "t1.join()\n",
    "t2.join()"
   ]
  },
  {
   "cell_type": "markdown",
   "metadata": {},
   "source": [
    "Using Sync Primitives"
   ]
  },
  {
   "cell_type": "code",
   "execution_count": 52,
   "metadata": {
    "collapsed": false
   },
   "outputs": [
    {
     "name": "stdout",
     "output_type": "stream",
     "text": [
      "[Tue Aug  8 13:52:45 2017] Started Thread-92\n",
      "[Tue Aug  8 13:52:45 2017] Started Thread-93\n",
      "[Tue Aug  8 13:52:45 2017] Started Thread-94\n",
      "[Tue Aug  8 13:52:45 2017] Started Thread-95\n",
      "[Tue Aug  8 13:52:47 2017] Completed Thread-92 (2 secs)\n",
      "   (remaining: Thread-93, Thread-94, Thread-95)[Tue Aug  8 13:52:47 2017] Completed Thread-93 (2 secs)\n",
      "\n",
      "   (remaining: Thread-94, Thread-95)\n",
      "[Tue Aug  8 13:52:47 2017] Completed Thread-94 (2 secs)\n",
      "   (remaining: Thread-95)\n",
      "[Tue Aug  8 13:52:48 2017] Completed Thread-95 (3 secs)\n",
      "   (remaining: NONE)\n"
     ]
    }
   ],
   "source": [
    "class CleanOutputSet(set):\n",
    "    def __str__(self):\n",
    "        return ', '.join(x for x in self)\n",
    "\n",
    "lock = Lock()\n",
    "loops = (randrange(2,5) for x in range(randrange(3,7)))\n",
    "remaining = CleanOutputSet()\n",
    "\n",
    "def loop(nsec):\n",
    "    myname = current_thread().name\n",
    "    with lock:\n",
    "        remaining.add(myname)\n",
    "        print('[{0}] Started {1}'.format(ctime(), myname))\n",
    "    sleep(nsec)\n",
    "    with lock:\n",
    "        remaining.remove(myname)\n",
    "        print('[{0}] Completed {1} ({2} secs)'.format(ctime(), myname, nsec))\n",
    "        print('   (remaining: {0})'.format(remaining or 'NONE'))\n",
    "\n",
    "def main():\n",
    "    for pause in loops:\n",
    "        Thread(target=loop, args=(pause,)).start()\n",
    "    \n",
    "@atexit.register\n",
    "def _atexit():\n",
    "    print('all DONE at:', ctime())\n",
    "\n",
    "main()"
   ]
  },
  {
   "cell_type": "markdown",
   "metadata": {},
   "source": [
    "Using Semaphore"
   ]
  },
  {
   "cell_type": "code",
   "execution_count": 190,
   "metadata": {
    "collapsed": false
   },
   "outputs": [
    {
     "name": "stdout",
     "output_type": "stream",
     "text": [
      "Buy: 16, Sell: 3\n",
      "Buying candy...\n",
      "OK\n",
      "[9]\n",
      "Buying candy...OK\n",
      "[8]\n",
      "Buying candy...OK\n",
      "[7]\n",
      "Buying candy...OK\n",
      "[6]\n",
      "Refilling candy...OK\n",
      "[7]\n",
      "Buying candy...OK\n",
      "[6]\n",
      "Refilling candy...OK\n",
      "[7]\n",
      "Buying candy...OK\n",
      "[6]\n",
      "Buying candy...OK\n",
      "[5]\n",
      "Refilling candy...OK\n",
      "[6]\n",
      "Buying candy...OK\n",
      "[5]\n",
      "Buying candy...OK\n",
      "[4]\n",
      "Buying candy...OK\n",
      "[3]\n",
      "Buying candy...OK\n",
      "[2]\n",
      "Buying candy...OK\n",
      "[1]\n",
      "Buying candy...OK\n",
      "[0]\n",
      "Buying candy...Sorry, it is empty\n",
      "[0]\n",
      "Buying candy...Sorry, it is empty\n",
      "[0]\n",
      "Buying candy...Sorry, it is empty\n",
      "[0]\n"
     ]
    }
   ],
   "source": [
    "lock = Lock()\n",
    "MAX = 10\n",
    "service = BoundedSemaphore(MAX)\n",
    "\n",
    "def add_candy():\n",
    "    with lock:\n",
    "        print('Refilling candy...', end = '')\n",
    "        try:\n",
    "            service.release()\n",
    "#         except Exception as error:\n",
    "#             print('Error occured: {0}'.format(str(type(error).__name__ + ' : ' + ' '.join(error.args))))\n",
    "        except ValueError:\n",
    "            print('Sorry, it is full')\n",
    "        else:\n",
    "            print('OK')\n",
    "        print('[{0}]'.format(service._value))\n",
    "\n",
    "def buy_candy():\n",
    "    with lock:\n",
    "        print('Buying candy...', end='')\n",
    "        if service.acquire(False):\n",
    "            print('OK')\n",
    "        else:\n",
    "            print('Sorry, it is empty')\n",
    "        print('[{0}]'.format(service._value))\n",
    "            \n",
    "def producer(loops):\n",
    "    for i in range(loops):\n",
    "        add_candy()\n",
    "        sleep(randrange(2))\n",
    "\n",
    "def consumer(loops):\n",
    "    for i in range(loops):\n",
    "        buy_candy()\n",
    "        sleep(randrange(2))   \n",
    "        \n",
    "def main():\n",
    "    nloops = randrange(3,5)\n",
    "    nloops_buy = randrange(nloops, nloops + MAX + 4)\n",
    "    print('Buy: {0}, Sell: {1}\\n'.format(nloops_buy, nloops))\n",
    "    c = Thread(target=consumer, args = (nloops_buy,))\n",
    "    p = Thread(target=producer, args = (nloops,))\n",
    "    c.start()\n",
    "    p.start()\n",
    "    \n",
    "main()"
   ]
  },
  {
   "cell_type": "markdown",
   "metadata": {},
   "source": [
    "SFTP"
   ]
  },
  {
   "cell_type": "code",
   "execution_count": 147,
   "metadata": {
    "collapsed": false
   },
   "outputs": [],
   "source": [
    "import pysftp"
   ]
  },
  {
   "cell_type": "code",
   "execution_count": 169,
   "metadata": {
    "collapsed": true
   },
   "outputs": [],
   "source": [
    "host = 'ftp.kroll.com'\n",
    "user = 'emoreno'\n",
    "passwd = '6LO7330Q'"
   ]
  },
  {
   "cell_type": "code",
   "execution_count": 170,
   "metadata": {
    "collapsed": false
   },
   "outputs": [],
   "source": [
    "cnopts = pysftp.CnOpts()\n",
    "cnopts.hostkeys = None\n",
    "sftp = pysftp.Connection(host, username=user, password=passwd, cnopts=cnopts)"
   ]
  },
  {
   "cell_type": "code",
   "execution_count": 171,
   "metadata": {
    "collapsed": false
   },
   "outputs": [
    {
     "data": {
      "text/plain": [
       "['KrollPilotData.zip', 'System Volume Information']"
      ]
     },
     "execution_count": 171,
     "metadata": {},
     "output_type": "execute_result"
    },
    {
     "data": {
      "text/plain": [
       "'/'"
      ]
     },
     "execution_count": 171,
     "metadata": {},
     "output_type": "execute_result"
    }
   ],
   "source": [
    "sftp.listdir()\n",
    "sftp.pwd"
   ]
  },
  {
   "cell_type": "code",
   "execution_count": null,
   "metadata": {
    "collapsed": false
   },
   "outputs": [],
   "source": [
    "rt_file = 'Collected Reports.zip'\n",
    "local_path = os.path.join('/home/karimlulu/Downloads', rt_file)\n",
    "sftp.get(rt_file, localpath=local_path)"
   ]
  },
  {
   "cell_type": "code",
   "execution_count": 172,
   "metadata": {
    "collapsed": true
   },
   "outputs": [],
   "source": [
    "sftp.close()"
   ]
  },
  {
   "cell_type": "markdown",
   "metadata": {},
   "source": [
    "Queue"
   ]
  },
  {
   "cell_type": "code",
   "execution_count": 177,
   "metadata": {
    "collapsed": true
   },
   "outputs": [],
   "source": [
    "from queue import Queue"
   ]
  },
  {
   "cell_type": "code",
   "execution_count": 209,
   "metadata": {
    "collapsed": false
   },
   "outputs": [
    {
     "name": "stdout",
     "output_type": "stream",
     "text": [
      "[Tue Aug  8 19:40:04 2017] Thread ProducerThread started to put, size = 0[Tue Aug  8 19:40:04 2017] Thread ConsumerThread started to get, size = 0\n",
      "[Tue Aug  8 19:40:04 2017] Thread ProducerThread put, size = 1\n",
      "\n",
      "[Tue Aug  8 19:40:04 2017] Thread ProducerThread started to put, size = 1\n",
      "[Tue Aug  8 19:40:04 2017] Thread ProducerThread put, size = 2\n",
      "[Tue Aug  8 19:40:04 2017] Thread ProducerThread started to put, size = 2\n",
      "[Tue Aug  8 19:40:04 2017] Thread ProducerThread put, size = 2\n",
      "[Tue Aug  8 19:40:06 2017] Thread ConsumerThread consumed, size = 2\n",
      "[Tue Aug  8 19:40:06 2017] Thread ConsumerThread started to get, size = 2\n",
      "[Tue Aug  8 19:40:06 2017] Thread ConsumerThread consumed, size = 1\n",
      "[Tue Aug  8 19:40:06 2017] Thread ConsumerThread started to get, size = 1\n",
      "[Tue Aug  8 19:40:08 2017] Thread ConsumerThread consumed, size = 0\n",
      "[Tue Aug  8 19:40:08 2017] Thread ConsumerThread started to get, size = 0\n"
     ]
    }
   ],
   "source": [
    "def consume(q):\n",
    "    while True:\n",
    "        name = current_thread().name\n",
    "        print('[{0}] Thread {1} started to get, size = {2}'.format(ctime(), name, q.qsize()))\n",
    "        item = q.get()\n",
    "        sleep(randrange(3))\n",
    "        print('[{0}] Thread {1} consumed, size = {2}'.format(ctime(), name, q.qsize()))\n",
    "        q.task_done()\n",
    "  \n",
    "\n",
    "def produce(q, loops):\n",
    "    for k in range(loops):\n",
    "        name = current_thread().name\n",
    "        print('[{0}] Thread {1} started to put, size = {2}'.format(ctime(), name, q.qsize()))\n",
    "        item = k\n",
    "        q.put(k)\n",
    "        sleep(randrange(1))\n",
    "        print('[{0}] Thread {1} put, size = {2}'.format(ctime(), name, q.qsize()))\n",
    "\n",
    "        \n",
    "def main():\n",
    "    loops = randrange(3,5)\n",
    "    q = Queue(maxsize=10)\n",
    "    c = Thread(name='ConsumerThread', target=consume, args=(q,))#, daemon = True)\n",
    "    p = Thread(name='ProducerThread', target=produce, args=(q, loops))#, daemon = True)\n",
    "    c.start()\n",
    "    p.start()\n",
    "    \n",
    "    q.join()\n",
    "    \n",
    "main()"
   ]
  }
 ],
 "metadata": {
  "kernelspec": {
   "display_name": "Python 3",
   "language": "python",
   "name": "python3"
  },
  "language_info": {
   "codemirror_mode": {
    "name": "ipython",
    "version": 3
   },
   "file_extension": ".py",
   "mimetype": "text/x-python",
   "name": "python",
   "nbconvert_exporter": "python",
   "pygments_lexer": "ipython3",
   "version": "3.6.0"
  }
 },
 "nbformat": 4,
 "nbformat_minor": 2
}
